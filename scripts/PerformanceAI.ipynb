{
 "cells": [
  {
   "cell_type": "markdown",
   "id": "2f9c2de6",
   "metadata": {},
   "source": [
    "# Ejemplo sobre desempeño\n",
    "\n",
    "Este ejercicio tiene el propósito de mostrar diferentes maneras de resolver el mismo problema y cómo se puede mejorar el desempeño de los cálculos. hay tres diferentes paradigmas a usar:\n",
    "\n",
    "- **Idiomas y paradigmas**: enfoque de implementación, uso adecuado de estructuras de datos, evitar loops a través de vectorización o el uso depaquetes apropiados.\n",
    "- **Compilación**: python se puede compilar estática o dinámicamente para que las funciones compiladas corran más rápido.\n",
    "- **Paralelización**: utilizar cálculos paralelos tomando ventaja del hardware.\n",
    "\n",
    "A continuación se considerarán tres maneras de hacer un mismo ejercicio: evaluar una expresión compleja en un arreglo de números. Se evalúa la función $f(x) = \\log(x) + \\cos(x)^2$ 3,000,000 de veces."
   ]
  },
  {
   "cell_type": "markdown",
   "id": "fd068f90",
   "metadata": {},
   "source": [
    "## Opción 1\n",
    "\n",
    "Define la función y se evalúa a través de un for loop"
   ]
  },
  {
   "cell_type": "code",
   "execution_count": 1,
   "id": "626f3c93",
   "metadata": {},
   "outputs": [],
   "source": [
    "import math\n",
    "loops = 3000000"
   ]
  },
  {
   "cell_type": "code",
   "execution_count": 2,
   "id": "777fb3b8",
   "metadata": {},
   "outputs": [],
   "source": [
    "a = range(1,loops)"
   ]
  },
  {
   "cell_type": "code",
   "execution_count": 3,
   "id": "9f21cb05",
   "metadata": {},
   "outputs": [],
   "source": [
    "def f(x):\n",
    "    return 3*math.log(x) + math.cos(x)**2"
   ]
  },
  {
   "cell_type": "code",
   "execution_count": 4,
   "id": "a576d2a5",
   "metadata": {},
   "outputs": [
    {
     "name": "stdout",
     "output_type": "stream",
     "text": [
      "1.11 s ± 46 ms per loop (mean ± std. dev. of 7 runs, 1 loop each)\n"
     ]
    }
   ],
   "source": [
    "%timeit r = [f(x) for x in a]"
   ]
  },
  {
   "cell_type": "markdown",
   "id": "6213aced",
   "metadata": {},
   "source": [
    "## Opción 2\n",
    "\n",
    "Se usa Numpy que precompila la función"
   ]
  },
  {
   "cell_type": "code",
   "execution_count": 5,
   "id": "445738ea",
   "metadata": {},
   "outputs": [],
   "source": [
    "import numpy as np"
   ]
  },
  {
   "cell_type": "code",
   "execution_count": 6,
   "id": "42ef2427",
   "metadata": {},
   "outputs": [],
   "source": [
    "a = np.arange(1,loops)"
   ]
  },
  {
   "cell_type": "code",
   "execution_count": 7,
   "id": "d76a9c69",
   "metadata": {},
   "outputs": [
    {
     "name": "stdout",
     "output_type": "stream",
     "text": [
      "59.4 ms ± 6 ms per loop (mean ± std. dev. of 7 runs, 10 loops each)\n"
     ]
    }
   ],
   "source": [
    "%timeit r = 3*np.log(a) + np.cos(a)**2"
   ]
  },
  {
   "cell_type": "markdown",
   "id": "1afa5910",
   "metadata": {},
   "source": [
    "## Opcion 3\n",
    "\n",
    "Usando el paquete numexpr se compila la expresión para mejorar el desempeño sobre Numpy"
   ]
  },
  {
   "cell_type": "code",
   "execution_count": 8,
   "id": "c24d8b26",
   "metadata": {},
   "outputs": [],
   "source": [
    "import numexpr as ne"
   ]
  },
  {
   "cell_type": "code",
   "execution_count": 9,
   "id": "86eb8145",
   "metadata": {},
   "outputs": [
    {
     "data": {
      "text/plain": [
       "8"
      ]
     },
     "execution_count": 9,
     "metadata": {},
     "output_type": "execute_result"
    }
   ],
   "source": [
    "ne.set_num_threads(1)"
   ]
  },
  {
   "cell_type": "code",
   "execution_count": 10,
   "id": "c52ec9de",
   "metadata": {},
   "outputs": [],
   "source": [
    "f = '3*log(a) + cos(a)**2'"
   ]
  },
  {
   "cell_type": "code",
   "execution_count": 11,
   "id": "e4ff0708",
   "metadata": {},
   "outputs": [
    {
     "name": "stdout",
     "output_type": "stream",
     "text": [
      "31.6 ms ± 3.39 ms per loop (mean ± std. dev. of 7 runs, 10 loops each)\n"
     ]
    }
   ],
   "source": [
    "%timeit r = ne.evaluate(f)"
   ]
  },
  {
   "cell_type": "markdown",
   "id": "884709cf",
   "metadata": {},
   "source": [
    "## Opción 4\n",
    "\n",
    "Esta opción usa numexpr pero parareliza los cálculos para tomar ventaja del número de procesadores"
   ]
  },
  {
   "cell_type": "code",
   "execution_count": 12,
   "id": "bd8e63c7",
   "metadata": {},
   "outputs": [
    {
     "data": {
      "text/plain": [
       "1"
      ]
     },
     "execution_count": 12,
     "metadata": {},
     "output_type": "execute_result"
    }
   ],
   "source": [
    "ne.set_num_threads(8)"
   ]
  },
  {
   "cell_type": "code",
   "execution_count": 13,
   "id": "451c4d43",
   "metadata": {},
   "outputs": [
    {
     "name": "stdout",
     "output_type": "stream",
     "text": [
      "6.14 ms ± 287 µs per loop (mean ± std. dev. of 7 runs, 100 loops each)\n"
     ]
    }
   ],
   "source": [
    "%timeit r = ne.evaluate(f)"
   ]
  },
  {
   "cell_type": "code",
   "execution_count": null,
   "id": "6f25ac9b",
   "metadata": {},
   "outputs": [],
   "source": []
  }
 ],
 "metadata": {
  "kernelspec": {
   "display_name": "Python 3",
   "language": "python",
   "name": "python3"
  },
  "language_info": {
   "codemirror_mode": {
    "name": "ipython",
    "version": 3
   },
   "file_extension": ".py",
   "mimetype": "text/x-python",
   "name": "python",
   "nbconvert_exporter": "python",
   "pygments_lexer": "ipython3",
   "version": "3.9.5"
  }
 },
 "nbformat": 4,
 "nbformat_minor": 5
}
